{
 "cells": [
  {
   "cell_type": "code",
   "execution_count": 15,
   "id": "32676710-455f-4ceb-9af3-5c7bd35f782f",
   "metadata": {},
   "outputs": [],
   "source": [
    "from bs4 import BeautifulSoup\n",
    "from snotel_scraper import simple_get\n",
    "import mechanize\n",
    "import pandas as pd\n",
    "import pickle\n",
    "import numpy as np\n",
    "from os.path import abspath\n",
    "import os"
   ]
  },
  {
   "cell_type": "code",
   "execution_count": 25,
   "id": "1ca78f35-3afb-45d6-a078-e88c5690f9e9",
   "metadata": {},
   "outputs": [
    {
     "name": "stdout",
     "output_type": "stream",
     "text": [
      "STATES AVAILABLE:\n",
      "AK\n",
      "AZ\n",
      "CA\n",
      "CO\n",
      "ID\n",
      "MT\n",
      "NV\n",
      "NM\n",
      "OR\n",
      "SD\n",
      "UT\n",
      "WA\n",
      "WY\n"
     ]
    }
   ],
   "source": [
    "# ------------------------------ #\n",
    "#      Create Directory          #\n",
    "#         for data               #\n",
    "# ------------------------------ #\n",
    "\n",
    "carpeta = abspath('../data/')\n",
    "\n",
    "if not os.path.exists(carpeta):\n",
    "    os.makedirs(carpeta)\n",
    "\n",
    "# ------------------------------ #\n",
    "#      WebPage to Crawl          #\n",
    "# ------------------------------ #\n",
    "\n",
    "raw_html = simple_get('https://wcc.sc.egov.usda.gov/nwcc/tabget')\n",
    "\n",
    "html = BeautifulSoup(raw_html, 'html.parser')\n",
    "\n",
    "pages = []\n",
    "print('STATES AVAILABLE:')\n",
    "for option in html.find_all('option'):\n",
    "    print('{}'.format(option['value']))\n",
    "    pages.append(option['value'])\n",
    "\n",
    "# ------------------------------ #\n",
    "#      Define Spider             #\n",
    "# ------------------------------ #\n",
    "\n",
    "\n",
    "\n",
    "page = 'ID'\n",
    "url = 'https://wcc.sc.egov.usda.gov/nwcc/tabget?state=' + \\\n",
    "    page\n",
    "html = BeautifulSoup(simple_get(url), 'html.parser')\n",
    "subpages = []\n",
    "for option in html.find_all('option'):\n",
    "    # print('value: {}'.format(option['value']))\n",
    "    subpages.append(option['value'])\n",
    "alldata = dict()    # init dictionary"
   ]
  },
  {
   "cell_type": "code",
   "execution_count": 275,
   "id": "95e3e8b9-7661-4561-b134-c0f2e6a51901",
   "metadata": {},
   "outputs": [],
   "source": [
    "print(sub + '\\n')\n",
    "\n",
    "br = mechanize.Browser()\n",
    "br.set_handle_robots(False)\n",
    "br.open(url)\n",
    "br.select_form(method='get', action='./tabget')\n",
    "\n",
    "# --------------------------------------#\n",
    "#       Locate the Control Switchd      #\n",
    "# --------------------------------------#\n",
    "\n",
    "cosa = br.find_control(name = \"stationidname\").get(sub)\n",
    "\n",
    "# --------------------------------------#\n",
    "#        Activate the Switch            #\n",
    "# --------------------------------------#\n",
    "cosa.selected = True\n",
    "\n",
    "# --------------------------- #\n",
    "#      Submit the Form        #\n",
    "# --------------------------- #\n",
    "# try:\n",
    "#     content = str(urllib2.urlopen(url).read())\n",
    "# except (http.client.IncompleteRead) as e:\n",
    "#     content = str(e.partial)\n",
    "\n",
    "try:\n",
    "    submit_form = br.submit()\n",
    "except Exception:\n",
    "    print(\n",
    "        '\\n\\nSnotel Site ' + sub + ' was unable to open.\\n\\n'\n",
    "    )\n",
    "\n",
    "# --------------------------------------#\n",
    "#            Read the Page              #\n",
    "# --------------------------------------#\n",
    "\n",
    "content = str(submit_form.read())\n",
    "\n",
    "content = content.replace('\\\\t', '').split('\\\\n')\n",
    "\n",
    "# ---------------------------- #\n",
    "#       Split into Lines       #\n",
    "# ----------------------------- #\n",
    "\n",
    "match_str = r\"SNOTEL.*{0}\\b\".format(page)\n",
    "\n",
    "p = re.compile(match_str)\n",
    "for ix, item in enumerate(content):\n",
    "    found = re.findall(p, item)\n",
    "    if found:\n",
    "        sitename = found[0].strip(\"#\\\\t\")\n",
    "        \n",
    "# ----------------------------------------- #\n",
    "#            Try to Pull Site name          #\n",
    "#       If empty move to next Snotel Site   #\n",
    "# ----------------------------------------- #\n",
    "\n",
    "\n",
    "numline = [\n",
    "    (ix, item) \n",
    "    for ix, item in enumerate(content)\n",
    "    if \"Date\" in item\n",
    "]\n",
    "\n",
    "if len(numline) == 0:\n",
    "    pass\n",
    "else:\n",
    "\n",
    "    data = content[numline[-1][0]+1:]  # beginning of data\n",
    "    columns = content[numline[-1][0]].split(',')  # col names\n",
    "    columns = [columns[i].strip().lower()\n",
    "               .replace(' ', '_').replace('(', '')\n",
    "               .replace(')', '')\n",
    "               for i in np.arange(len(columns))]\n",
    "    # ---------------------------- #\n",
    "    #       Create DataFrame       #\n",
    "    # ---------------------------- #\n",
    "    data = pd.DataFrame([d.split(\",\") for d in data],\n",
    "                        columns=columns)\n",
    "    # ----------------------------------- #\n",
    "    #      Store DataFrame in Dict        #\n",
    "    # ----------------------------------- #\n",
    "    alldata[sitename] = data\n",
    "    # ----------------------------------------- #\n",
    "    #       Create Directory if Necessary       #\n",
    "    # ----------------------------------------- #\n",
    "    \n",
    "\n",
    "if not os.path.exists(carpeta + '/' + page + '/'):\n",
    "    os.makedirs(carpeta + '/' + page + '/')\n",
    "# ------------------------------------- #\n",
    "#       Save Dictionary as Pickle       #\n",
    "# ------------------------------------- #\n",
    "with open(\n",
    "    carpeta + '/' + page + '/allsnotel_dict.pickle', 'wb'\n",
    ") as f:\n",
    "    pickle.dump(\n",
    "        alldata, f, protocol=pickle.HIGHEST_PROTOCOL\n",
    "    )\n",
    "    f.close()\n",
    "# ------------------------------- #\n",
    "#       Save Keys as Pickle       #\n",
    "# ------------------------------- #\n",
    "with open(\n",
    "    carpeta + '/' + page + '/keys.pickle', 'wb'\n",
    ") as f:\n",
    "    pickle.dump(\n",
    "        list(alldata.keys()), f, protocol=pickle.HIGHEST_PROTOCOL)\n",
    "    f.close()"
   ]
  },
  {
   "cell_type": "code",
   "execution_count": 23,
   "id": "fd203a5f-ae97-4c5e-a514-b5e77ea271e3",
   "metadata": {},
   "outputs": [
    {
     "name": "stdin",
     "output_type": "stream",
     "text": [
      "Enter a single state would you like to scrape SNOTEL data from, enter 'all' if you want all statesscrape?\n",
      " AZ\n"
     ]
    },
    {
     "name": "stdout",
     "output_type": "stream",
     "text": [
      "\n",
      "\n",
      "You entered: AZ\n",
      "AZ\n"
     ]
    },
    {
     "ename": "UnboundLocalError",
     "evalue": "local variable 'content' referenced before assignment",
     "output_type": "error",
     "traceback": [
      "\u001b[0;31m---------------------------------------------------------------------------\u001b[0m",
      "\u001b[0;31mUnboundLocalError\u001b[0m                         Traceback (most recent call last)",
      "\u001b[0;32m/var/folders/w1/5_nkh_lx66n6c_9jlgvrgq640000gq/T/ipykernel_17585/1497295111.py\u001b[0m in \u001b[0;36m<module>\u001b[0;34m\u001b[0m\n\u001b[1;32m     12\u001b[0m \u001b[0;32mif\u001b[0m \u001b[0mpages_entered\u001b[0m\u001b[0;34m[\u001b[0m\u001b[0;36m0\u001b[0m\u001b[0;34m]\u001b[0m \u001b[0;34m!=\u001b[0m \u001b[0;34m\"all\"\u001b[0m\u001b[0;34m:\u001b[0m\u001b[0;34m\u001b[0m\u001b[0;34m\u001b[0m\u001b[0m\n\u001b[1;32m     13\u001b[0m     \u001b[0mprint\u001b[0m\u001b[0;34m(\u001b[0m\u001b[0;34m'\\n\\nYou entered: {}'\u001b[0m\u001b[0;34m.\u001b[0m\u001b[0mformat\u001b[0m\u001b[0;34m(\u001b[0m\u001b[0mpages_entered\u001b[0m\u001b[0;34m[\u001b[0m\u001b[0;36m0\u001b[0m\u001b[0;34m]\u001b[0m\u001b[0;34m)\u001b[0m\u001b[0;34m)\u001b[0m\u001b[0;34m\u001b[0m\u001b[0;34m\u001b[0m\u001b[0m\n\u001b[0;32m---> 14\u001b[0;31m     \u001b[0msnotel_spider\u001b[0m\u001b[0;34m(\u001b[0m\u001b[0mpages_entered\u001b[0m\u001b[0;34m)\u001b[0m\u001b[0;34m\u001b[0m\u001b[0;34m\u001b[0m\u001b[0m\n\u001b[0m\u001b[1;32m     15\u001b[0m \u001b[0;32melse\u001b[0m\u001b[0;34m:\u001b[0m\u001b[0;34m\u001b[0m\u001b[0;34m\u001b[0m\u001b[0m\n\u001b[1;32m     16\u001b[0m     \u001b[0mdf\u001b[0m\u001b[0;34m,\u001b[0m \u001b[0msnosite\u001b[0m \u001b[0;34m=\u001b[0m \u001b[0msnotel_spider\u001b[0m\u001b[0;34m(\u001b[0m\u001b[0mpages\u001b[0m\u001b[0;34m)\u001b[0m\u001b[0;34m\u001b[0m\u001b[0;34m\u001b[0m\u001b[0m\n",
      "\u001b[0;32m/var/folders/w1/5_nkh_lx66n6c_9jlgvrgq640000gq/T/ipykernel_17585/4039734019.py\u001b[0m in \u001b[0;36msnotel_spider\u001b[0;34m(pages)\u001b[0m\n\u001b[1;32m    114\u001b[0m                     \u001b[0;31m#       Create Directory if Necessary       #\u001b[0m\u001b[0;34m\u001b[0m\u001b[0;34m\u001b[0m\u001b[0;34m\u001b[0m\u001b[0m\n\u001b[1;32m    115\u001b[0m                     \u001b[0;31m# ----------------------------------------- #\u001b[0m\u001b[0;34m\u001b[0m\u001b[0;34m\u001b[0m\u001b[0;34m\u001b[0m\u001b[0m\n\u001b[0;32m--> 116\u001b[0;31m             \u001b[0;32mreturn\u001b[0m \u001b[0mcontent\u001b[0m\u001b[0;34m,\u001b[0m \u001b[0malldata\u001b[0m\u001b[0;34m\u001b[0m\u001b[0;34m\u001b[0m\u001b[0m\n\u001b[0m\u001b[1;32m    117\u001b[0m             \u001b[0;32mif\u001b[0m \u001b[0;32mnot\u001b[0m \u001b[0mos\u001b[0m\u001b[0;34m.\u001b[0m\u001b[0mpath\u001b[0m\u001b[0;34m.\u001b[0m\u001b[0mexists\u001b[0m\u001b[0;34m(\u001b[0m\u001b[0mcarpeta\u001b[0m \u001b[0;34m+\u001b[0m \u001b[0;34m'/'\u001b[0m \u001b[0;34m+\u001b[0m \u001b[0mpage\u001b[0m \u001b[0;34m+\u001b[0m \u001b[0;34m'/'\u001b[0m\u001b[0;34m)\u001b[0m\u001b[0;34m:\u001b[0m\u001b[0;34m\u001b[0m\u001b[0;34m\u001b[0m\u001b[0m\n\u001b[1;32m    118\u001b[0m                 \u001b[0mos\u001b[0m\u001b[0;34m.\u001b[0m\u001b[0mmakedirs\u001b[0m\u001b[0;34m(\u001b[0m\u001b[0mcarpeta\u001b[0m \u001b[0;34m+\u001b[0m \u001b[0;34m'/'\u001b[0m \u001b[0;34m+\u001b[0m \u001b[0mpage\u001b[0m \u001b[0;34m+\u001b[0m \u001b[0;34m'/'\u001b[0m\u001b[0;34m)\u001b[0m\u001b[0;34m\u001b[0m\u001b[0;34m\u001b[0m\u001b[0m\n",
      "\u001b[0;31mUnboundLocalError\u001b[0m: local variable 'content' referenced before assignment"
     ]
    }
   ],
   "source": [
    "# ------------------------------------- #\n",
    "#            Run the Spider             #\n",
    "# ------------------------------------- #\n",
    "pages_entered = []\n",
    "pages_entered.append(\n",
    "    input(\"Enter a single state would you like to\" +\n",
    "          \" scrape SNOTEL data from, enter 'all' \" +\n",
    "          \"if you want all states\" +\n",
    "          \"scrape?\\n\"))\n",
    "\n",
    "\n",
    "if pages_entered[0] != \"all\":\n",
    "    print('\\n\\nYou entered: {}'.format(pages_entered[0]))\n",
    "    snotel_spider(pages_entered)\n",
    "else:\n",
    "    df, snosite = snotel_spider(pages)"
   ]
  },
  {
   "cell_type": "code",
   "execution_count": 12,
   "id": "1c9d6445-6928-482e-bdb2-c595ad09db28",
   "metadata": {},
   "outputs": [],
   "source": [
    "state = 'ID'"
   ]
  },
  {
   "cell_type": "code",
   "execution_count": 18,
   "id": "e62e9280-e36b-4ac0-8957-bd92c79d14b6",
   "metadata": {},
   "outputs": [
    {
     "ename": "NameError",
     "evalue": "name 'snosite' is not defined",
     "output_type": "error",
     "traceback": [
      "\u001b[0;31m---------------------------------------------------------------------------\u001b[0m",
      "\u001b[0;31mNameError\u001b[0m                                 Traceback (most recent call last)",
      "\u001b[0;32m/var/folders/w1/5_nkh_lx66n6c_9jlgvrgq640000gq/T/ipykernel_17585/1989339439.py\u001b[0m in \u001b[0;36m<module>\u001b[0;34m\u001b[0m\n\u001b[0;32m----> 1\u001b[0;31m \u001b[0msnosite\u001b[0m\u001b[0;34m\u001b[0m\u001b[0;34m\u001b[0m\u001b[0m\n\u001b[0m",
      "\u001b[0;31mNameError\u001b[0m: name 'snosite' is not defined"
     ]
    }
   ],
   "source": [
    "ddsnosite"
   ]
  },
  {
   "cell_type": "code",
   "execution_count": null,
   "id": "3a804f95-cc78-4d53-98ad-b6cbdb7724a3",
   "metadata": {},
   "outputs": [],
   "source": []
  }
 ],
 "metadata": {
  "kernelspec": {
   "display_name": "Python 3 (ipykernel)",
   "language": "python",
   "name": "python3"
  },
  "language_info": {
   "codemirror_mode": {
    "name": "ipython",
    "version": 3
   },
   "file_extension": ".py",
   "mimetype": "text/x-python",
   "name": "python",
   "nbconvert_exporter": "python",
   "pygments_lexer": "ipython3",
   "version": "3.7.12"
  }
 },
 "nbformat": 4,
 "nbformat_minor": 5
}
